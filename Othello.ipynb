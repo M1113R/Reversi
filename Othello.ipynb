{
  "nbformat": 4,
  "nbformat_minor": 0,
  "metadata": {
    "colab": {
      "name": "Reversi.ipynb",
      "provenance": [],
      "collapsed_sections": []
    },
    "kernelspec": {
      "name": "python3",
      "display_name": "Python 3"
    }
  },
  "cells": [
    {
      "cell_type": "markdown",
      "metadata": {
        "id": "SHekSBIqBm4b"
      },
      "source": [
        "### **Reversi**\n",
        "\n",
        "O Reversi se trata de um jogo de tabuleiro para 2 pessoas na qual sua estrutura é composta por 8 linhas e 8 colunas (64 casas) e algumas peças coloridas (2 cores, em geral preto e branco). O objetivo do jogo é ter o maior número de peças no tabuleiro possíveis no término do jogo, sendo que as jogadas são executadas por turno.\n",
        "\n"
      ]
    },
    {
      "cell_type": "markdown",
      "metadata": {
        "id": "r0x7f3rKaHyl"
      },
      "source": [
        "### **Como Jogar:**\n",
        "O jogo tem início com quatro peças no centro do tabuleiro em forma de quadrado (2 brancas e duas pretas), o inicio do jogo se dá pelo movimento do jogador com as peças pretas. Para esse jogo em questão, não existe a possibilidade de diminuir ou aumentar o tabuleiro. Abaixo exemplo de como o jogo inicia:\n",
        "\n",
        "![](https://drive.google.com/uc?export=view&id=1nkx6tXcC50B26aoFEh6iiyR4bxgu4f7L)\n",
        "\n",
        "\n"
      ]
    },
    {
      "cell_type": "markdown",
      "metadata": {
        "id": "cIgg3JF8bmit"
      },
      "source": [
        "### **Jogadas**\n",
        "\n",
        "Cada movimento realizado pelos jogadores tem por objetivo colocar as peças em alguma posição vazia ao lado de peça do oponente, tendo como resultado, virar pelo menos uma peça para a sua cor.\n",
        "Após a colocação do disco no tabuleiro, o jogador vira todos os discos que sejam da cor do adversário e que estejam colocadas em linha reta no horizontal, vertical ou na diagonal que estejam entre a peça recém colocada até a próxima desse mesmo jogador. Abaixo está um exemplo de jogada: \n",
        "\n",
        "![](https://drive.google.com/uc?export=view&id=1aCaOmWB6lrFRLB9cJjNkaUwbTVnGR-ES)\n",
        "\n",
        "\n",
        "Após isso, a jogada é passada para o adversário que deve posicionar uma nova peça. E assim sucessivamente até o término do jogo. Abaixo está alguns exemplos de jogadas:\n",
        "\n",
        "Neste exemplo, o jogador com a peça preta capturou apenas duas peças, pois não existia nenhuma peça de sua cor na diagonal\n",
        "\n",
        "![](https://drive.google.com/uc?export=view&id=1FPieeR1KvQFaHHvJFPFps2dWm8YX2KVF)\n",
        "\n",
        "\n",
        "Neste exemplo, o jogador com a peça preta capturou apenas duas, sendo uma na diagonal e a outra na vertical\n",
        "\n",
        "![](https://drive.google.com/uc?export=view&id=1p3fG8-emw7isP917c1FDh1g9VizlcfY6)\n",
        "\n",
        "\n",
        "Neste exemplo, o jogador com a peça preta capturou apenas duas, sendo uma na vertical e a outra na horizontal\n",
        "\n",
        "![](https://drive.google.com/uc?export=view&id=1iAb4ln0JQ3Y429bQntr309B7hlQz5tit)\n",
        "\n",
        "\n",
        "Neste exemplo, o jogador com a peça preta capturou quatro peças, sendo três na diagonal e a outra na vertical\n",
        "\n",
        "![](https://drive.google.com/uc?export=view&id=1D9P0ybOjoCBITt0wxkPLEw1ut5bjdDsR)\n",
        "\n",
        "\n"
      ]
    },
    {
      "cell_type": "markdown",
      "metadata": {
        "id": "82GduEQrem2p"
      },
      "source": [
        "### **Vitória**\n",
        "\n",
        "O jogo termina quando o tabuleiro não possuir nenhuma casa disponível para posicionar uma peça ou até que o oponente não tenha mais chances de vencer a partida. Abaixo está ambos os exemplos:\n",
        "\n",
        "![](https://drive.google.com/uc?export=view&id=1DUQ9ITAiBuXGv34wpklPkYtXCZAlL1HG)\n",
        "\n",
        "- [ ] *Todas as imagens foram retiradas durante uma partida do grupo no site clickjogos: [Acesso ao jogo.](https://www.clickjogos.com.br/jogos/reversi)*"
      ]
    },
    {
      "cell_type": "code",
      "metadata": {
        "id": "jJZJKrhcXwQU",
        "outputId": "58d8cc42-e0f6-4a3a-cf1b-81d767a6aeb1",
        "colab": {
          "base_uri": "https://localhost:8080/",
          "height": 34
        }
      },
      "source": [
        "from random import randint\n",
        "from PIL import Image, ImageDraw\n",
        "\n",
        "##========================================================##\n",
        "\n",
        "def desenhaTab():\n",
        "  board = Image.new('RGB', (400, 400),  \"#4BA052\")\n",
        "  draw  = ImageDraw.Draw(board)\n",
        "\n",
        "  x=50\n",
        "  for i in range(7):\n",
        "    draw.line( (0, x,  400,  x), fill = \"black\", width = 2 ) \n",
        "    x = x+50;\n",
        "\n",
        "  x=50\n",
        "  for i in range(7):\n",
        "    draw.line( (x, 0,  x,  400), fill = \"black\", width = 2 ) \n",
        "    x = x+50;\n",
        "\n",
        "  draw.ellipse((150, 200, 200, 250), width=6, outline = \"white\", fill = \"white\")\n",
        "  draw.ellipse((150, 150, 200, 200), width=6, outline = \"black\", fill = \"black\")\n",
        "  draw.ellipse((200, 200, 250, 250), width=6, outline = \"black\", fill = \"black\")\n",
        "  draw.ellipse((200, 150, 250, 200), width=6, outline = \"white\", fill = \"white\")\n",
        "\n",
        "  display(board)\n",
        "\n",
        "def get_valid_moves(tab, pos, turn):\n",
        "  if(0 <= pos < 64):\n",
        "    if(tab[pos]==0):\n",
        "      if((pos-8 > 0) and (tab[pos-8]==-1)):\n",
        "        if(checkLine(tab, pos, 1)==1):\n",
        "          return pos\n",
        "      if((pos+1 < 63) and (tab[pos+1]==-1)):\n",
        "        if(checkLine(tab, pos, 2)==1):\n",
        "          return pos\n",
        "      if((pos+8 < 63) and (tab[pos+8]==-1)):\n",
        "        if(checkLine(tab, pos, 3)==1):\n",
        "          return pos\n",
        "      if((pos-1 > 0) and (tab[pos-1]==-1)):\n",
        "        if(checkLine(tab, pos, 4)==1):\n",
        "          return pos\n",
        "      else:\n",
        "        if(turn == 1):\n",
        "          print(\"Jogada não marca ponto\")\n",
        "    else:\n",
        "      if(turn == 1):\n",
        "        print(\"Posição não vazia\")\n",
        "  else:\n",
        "    if(turn == 1):\n",
        "      print(\"Fora do tabuleiro\")\n",
        "\n",
        "def checkLine(tab, pos, dir):\n",
        "  x = 1\n",
        "  y = 8\n",
        "\n",
        "  if(dir==1):\n",
        "    while tab[pos-y] != 1:\n",
        "      y = y + 8\n",
        "      if(pos-y < 8):\n",
        "        return 0\n",
        "\n",
        "  if(dir==2):\n",
        "    while tab[pos+x] != 1:\n",
        "      x = x + 1\n",
        "      if((pos+x)%8==0):\n",
        "        return 0\n",
        "\n",
        "  if(dir==3):\n",
        "    while tab[pos+y] != 1:\n",
        "      y = y + 8\n",
        "      if(pos-y > 8):\n",
        "        return 0\n",
        "\n",
        "  if(dir==4):\n",
        "    while tab[pos-x] != 1:\n",
        "      x = x + 1\n",
        "      if((pos-x)%8==0):\n",
        "        return 0\n",
        "\n",
        "  return 1\n",
        "\n",
        "def winner(tab):\n",
        "  r = 0\n",
        "  for j in range(len(tab)):\n",
        "    r = r+tab[j]\n",
        "  return(r)\n",
        "\n",
        "def botMove(turn, tab):\n",
        "  top = 0\n",
        "  if(turn == 1):\n",
        "    pass\n",
        "  \n",
        "  else:\n",
        "    for j in range(len(tab)):\n",
        "      if(isinstance(get_valid_moves(tab, j, turn), int)):\n",
        "        botMoves.append(get_valid_moves(tab, j, turn))\n",
        "        top = top + 1\n",
        "  \n",
        "      else:\n",
        "        pass\n",
        "\n",
        "    return(botMoves[randint(0,top-1)])\n",
        "\n",
        "##========================================================##\n",
        "\n",
        "turn = -1\n",
        "botMoves = []\n",
        "tab = (1, 1, 1, 1, 1, 1, 1, 1,\n",
        "       1, 1, 1, 1, 1, 1, 1, 1,\n",
        "       1, 1, 1, 1, 1, 1, 1, 1,\n",
        "       1, 1, 1, 1, 1, 1, 1, -1,\n",
        "       -1, -1, -1, -1, -1, -1, -1, -1,\n",
        "       -1, -1, -1, -1, -1, -1, -1, -1,\n",
        "       -1, -1, -1, -1, -1, -1, -1, -1,\n",
        "       -1, -1, -1, -1, -1, -1, -1, -1,)\n",
        "\n",
        "##========================================================##\n",
        "\n",
        "if(winner(tab)<0):\n",
        "  print(\"Machine wins\")\n",
        "if(winner(tab)>0):\n",
        "  print(\"Player wins\")\n",
        "if(winner(tab)==0):\n",
        "  print(\"Stalemate\")"
      ],
      "execution_count": null,
      "outputs": [
        {
          "output_type": "stream",
          "text": [
            "Machine wins\n"
          ],
          "name": "stdout"
        }
      ]
    }
  ]
}