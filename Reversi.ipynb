{
  "nbformat": 4,
  "nbformat_minor": 0,
  "metadata": {
    "colab": {
      "name": "Reversi.ipynb",
      "provenance": [],
      "collapsed_sections": []
    },
    "kernelspec": {
      "name": "python3",
      "display_name": "Python 3"
    }
  },
  "cells": [
    {
      "cell_type": "markdown",
      "metadata": {
        "id": "SHekSBIqBm4b"
      },
      "source": [
        "### **Reversi**\n",
        "\n",
        "Reversi se trata de um jogo de tabuleiro para 2 pessoas, o qual usa um tabuleiro de 64 casas e peças de 2 cores, em geral preto e branco. As jogadas são executadas por turno. O objetivo do jogo é ter o maior número de peças da sua cor no tabuleiro"
      ]
    },
    {
      "cell_type": "markdown",
      "metadata": {
        "id": "r0x7f3rKaHyl"
      },
      "source": [
        "### **Como Jogar:**\n",
        "O jogo tem início com quatro peças no centro do tabuleiro em forma de quadrado (2 brancas e duas pretas), o inicio do jogo se dá pelo movimento do jogador com as peças pretas. Para esse jogo em questão, não existe a possibilidade de diminuir ou aumentar o tabuleiro. Abaixo exemplo de como o jogo inicia:\n",
        "\n",
        "![](https://drive.google.com/uc?export=view&id=1nkx6tXcC50B26aoFEh6iiyR4bxgu4f7L)\n",
        "\n",
        "\n"
      ]
    },
    {
      "cell_type": "markdown",
      "metadata": {
        "id": "cIgg3JF8bmit"
      },
      "source": [
        "### **Jogadas**\n",
        "\n",
        "  Cada movimento realizado pelos jogadores tem por objetivo colocar as peças em alguma posição vazia ao lado da peça do oponente, tendo como resultado virar pelo menos uma peça para a sua cor.\n",
        "  Após a colocação do disco no tabuleiro, o jogador vira todos os discos que sejam da cor do adversário e que estejam colocadas em linha reta na horizontal ou na vertical e que estejam entre a peça recém colocada e uma outra desse mesmo jogador. Abaixo está um exemplo de jogada: \n",
        "\n",
        "![](https://drive.google.com/uc?export=view&id=1aCaOmWB6lrFRLB9cJjNkaUwbTVnGR-ES)\n",
        "\n",
        "  Após isso, a jogada é passada para o adversário, que deve posicionar uma nova peça e assim sucessivamente até o término do jogo. Abaixo estão alguns exemplos de jogadas:\n",
        "\n",
        "![](https://drive.google.com/uc?export=view&id=1FPieeR1KvQFaHHvJFPFps2dWm8YX2KVF)\n",
        "  Nesse exemplo, o jogador com as peças pretas capturou apenas duas peças\n",
        "\n",
        "![](https://drive.google.com/uc?export=view&id=1iAb4ln0JQ3Y429bQntr309B7hlQz5tit)\n",
        "  Nesse exemplo, o jogador com as peças pretas capturou duas mais uma vez, sendo uma na vertical e a outra na horizontal\n",
        "\n"
      ]
    },
    {
      "cell_type": "markdown",
      "metadata": {
        "id": "82GduEQrem2p"
      },
      "source": [
        "### **Vitória**\n",
        "\n",
        "O jogo termina quando o tabuleiro não possuir nenhuma casa disponível para posicionar uma peça ou até que o oponente não tenha mais chances de vencer a partida. Abaixo está ambos os exemplos:\n",
        "\n",
        "![](https://drive.google.com/uc?export=view&id=1DUQ9ITAiBuXGv34wpklPkYtXCZAlL1HG)\n",
        "\n",
        "- [ ] *Todas as imagens foram retiradas durante uma partida do grupo no site clickjogos: [Acesso ao jogo.](https://www.clickjogos.com.br/jogos/reversi)*"
      ]
    },
    {
      "cell_type": "code",
      "metadata": {
        "id": "jJZJKrhcXwQU",
        "outputId": "005bbb61-0d16-4c4b-d570-db6ecfd46ae4",
        "colab": {
          "base_uri": "https://localhost:8080/",
          "height": 1000
        }
      },
      "source": [
        "from random import randint\n",
        "from PIL import Image, ImageDraw\n",
        "\n",
        "##========================================================##\n",
        "\n",
        "def desenhaTab(tab):\n",
        "  board = Image.new('RGB', (400, 400),  \"#4BA052\")\n",
        "  draw  = ImageDraw.Draw(board)\n",
        "\n",
        "  x=50\n",
        "  for i in range(7):\n",
        "    draw.line( (0, x,  400,  x), fill = \"black\", width = 2 ) \n",
        "    x = x+50;\n",
        "\n",
        "  x=50\n",
        "  for i in range(7):\n",
        "    draw.line( (x, 0,  x,  400), fill = \"black\", width = 2 ) \n",
        "    x = x+50;\n",
        "\n",
        "  colors = {}\n",
        "  colors[1] = \"black\"\n",
        "  colors[-1] = \"white\"\n",
        "  coords = [(0,0,50,50)   ,(50,0,100,50)   ,(100,0,150,50)   ,(150,0,200,50)   ,(200,0,250,50)   ,(250,0,300,50)   ,(300,0,350,50)   ,(350,0,400,50),\n",
        "           (0,50,50,100) ,(50,50,100,100) ,(100,50,150,100) ,(150,50,200,100) ,(200,50,250,100) ,(250,50,300,100) ,(300,50,350,100) ,(350,50,400,100),\n",
        "           (0,100,50,150),(50,100,100,150),(100,100,150,150),(150,100,200,150),(200,100,250,150),(250,100,300,150),(300,100,350,150),(350,100,400,150),\n",
        "           (0,150,50,200),(50,150,100,200),(100,150,150,200),(150,150,200,200),(200,150,250,200),(250,150,300,200),(300,150,350,200),(350,150,400,200),\n",
        "           (0,200,50,250),(50,200,100,250),(100,200,150,250),(150,200,200,250),(200,200,250,250),(250,200,300,250),(300,200,350,250),(350,200,400,250),\n",
        "           (0,250,50,300),(50,250,100,300),(100,250,150,300),(150,250,200,300),(200,250,250,300),(250,250,300,300),(300,250,350,300),(350,250,400,300),\n",
        "           (0,300,50,350),(50,300,100,350),(100,300,150,350),(150,300,200,350),(200,300,250,350),(250,300,300,350),(300,300,350,350),(350,300,400,350),\n",
        "           (0,350,50,400),(50,350,100,400),(100,350,150,400),(150,350,200,400),(200,350,250,400),(250,350,300,400),(300,350,350,400),(350,350,400,400)]\n",
        "\n",
        "  for i in range(len(tab)):\n",
        "    if(tab[i]==0):\n",
        "      pass\n",
        "    else:\n",
        "      draw.ellipse(coords[i], width=6, outline = colors[tab[i]], fill = colors[tab[i]])\n",
        "\n",
        "  display(board)\n",
        "\n",
        "def get_valid_moves(turn, tab):\n",
        "  validMoves = []\n",
        "\n",
        "  for i in range(64):\n",
        "    if(valida(i,turn,tab)==1):\n",
        "      validMoves.append(i)\n",
        "  return validMoves\n",
        "## Junta num vetor os movimentos válidos\n",
        "\n",
        "def valida(pos, turn, tab):\n",
        "  if(checkDentro(pos, tab)==1):\n",
        "    if(checkPos(pos, tab)==1):\n",
        "      if(checkSides(pos, turn, tab)!=[0,0,0,0]):\n",
        "        if(checkLine(pos, turn, tab)!=[0,0,0,0]):\n",
        "          return 1\n",
        "  return 0\n",
        "## Usa as próximas 4 funções para verificar validez da pos\n",
        "\n",
        "def checkLine(pos, turn, tab):\n",
        "  sides = checkSides(pos,turn,tab)\n",
        "  valSides = [0,0,0,0]\n",
        "\n",
        "  for i in range(4):\n",
        "    y=8\n",
        "    x=1\n",
        "\n",
        "    ##Confere seguindo pra cima\n",
        "    if(sides[0]!=0 and i==0):\n",
        "      while pos-y > 0:\n",
        "        if(tab[pos-y] == turn):\n",
        "          valSides[0]=1\n",
        "        y = y + 8\n",
        "\n",
        "    ##Confere seguindo pra direita\n",
        "    if(sides[1]!=0 and i==1):\n",
        "      while (pos+x)%8!=0:\n",
        "        if(tab[pos+x] == turn):\n",
        "          valSides[1]=1\n",
        "        x = x + 1\n",
        "\n",
        "    ##Confere seguindo pra baixo\n",
        "    if(sides[2]!=0 and i==2):\n",
        "      while pos+y < 63:\n",
        "        if(tab[pos+y] == turn):\n",
        "          valSides[2]=1\n",
        "        y = y + 8\n",
        "\n",
        "    ##Confere seguindo pra esquerda\n",
        "    if(sides[3]!=0 and i==3):\n",
        "      while (pos-x+1)%8!=0:\n",
        "        if(tab[pos-x] == turn):\n",
        "          valSides[3]=1\n",
        "        x = x + 1\n",
        "\n",
        "  return valSides\n",
        "## Retorna num vetor qual linha termina em turn\n",
        "\n",
        "def checkPos(pos, tab):\n",
        "  if(tab[pos] == 0):\n",
        "    return 1\n",
        "\n",
        "  else:\n",
        "    return 0\n",
        "## Verifica se a posição está vazia\n",
        "\n",
        "def checkDentro(pos, tab):\n",
        "  if(0<=pos<=63):\n",
        "    return 1\n",
        "  \n",
        "  else:\n",
        "    return 0\n",
        "## Verifica se a posição está dentro do tabuleiro\n",
        "\n",
        "def checkSides(pos, turn, tab):\n",
        "  sides = [0, 0, 0, 0]\n",
        "\n",
        "  if((pos-8 > 0) and (tab[pos-8]==-turn)):\n",
        "    sides[0] = -turn\n",
        "  if((pos+1 < 63) and (tab[pos+1]==-turn)):\n",
        "    sides[1] = -turn\n",
        "  if((pos+8 < 63) and (tab[pos+8]==-turn)):\n",
        "    sides[2] = -turn\n",
        "  if((pos-1 > 0) and (tab[pos-1]==-turn)):\n",
        "    sides[3] = -turn\n",
        "\n",
        "  return sides\n",
        "## Retorna num vetor qual lado possui vizinho -turn\n",
        "\n",
        "def winner(tab):\n",
        "  r = 0\n",
        "  for j in range(len(tab)):\n",
        "    r = r+tab[j]\n",
        "  return(r)\n",
        "## Verifica valor do tab final\n",
        "\n",
        "def botMove(turn, tab):\n",
        "  botMoves=get_valid_moves(turn, tab)\n",
        "\n",
        "  if(not botMoves):\n",
        "    pass\n",
        "\n",
        "  else:\n",
        "    return(botMoves[randint(0,len(botMoves)-1)])\n",
        "## Bot de jogadas ao acaso\n",
        "\n",
        "def game (turn, tab):\n",
        "  if(turn == 1): #player\n",
        "    print(get_valid_moves(turn, tab))\n",
        "    pos = int(input())\n",
        "    while (valida(pos, turn, tab)!=1):\n",
        "      print(\"Movimento inválido!\")\n",
        "      print(get_valid_moves(turn, tab))\n",
        "      pos = int(input())\n",
        "    tab = putPiece(pos,tab,turn)\n",
        "    return(tab)\n",
        "\n",
        "  else: #bot\n",
        "    tab = putPiece(botMove(turn, tab),tab,turn)\n",
        "    return(tab)\n",
        "## Alterna entre os jogadores\n",
        "\n",
        "def putPiece(pos,tab,turn):\n",
        "  print('Vez do jogador ', + turn)\n",
        "  print('Jogada na posição', + pos)\n",
        "  tempTab = list(tab)\n",
        "  tempTab[pos] = turn\n",
        "  tempTab = changeLine(pos, turn, tempTab)\n",
        "  desenhaTab(tempTab)\n",
        "  tab = tuple(tempTab)\n",
        "\n",
        "  return(tab)\n",
        "## Coloca efetivamente a peça no tabuleiro\n",
        "\n",
        "def checkEndGame(tab):\n",
        "  for j in range(len(tab)):\n",
        "    if(tab[j] == 0):\n",
        "      return 0\n",
        "\n",
        "  return 1\n",
        "## 1 = Tab cheio\n",
        "\n",
        "def changeLine(pos, turn, tab):\n",
        "  y=8\n",
        "  x=1\n",
        "  valSides = checkLine(pos, turn, tab)\n",
        "\n",
        "  if(valSides[0]==1):\n",
        "    while tab[pos-y]!=turn:\n",
        "      tab[pos-y]=turn\n",
        "      y = y + 8\n",
        "\n",
        "  if(valSides[1]==1):\n",
        "    while tab[pos+x]!=turn:\n",
        "      tab[pos+x]=turn\n",
        "      x = x + 1\n",
        "\n",
        "  if(valSides[2]==1):\n",
        "    while tab[pos+y]!=turn:\n",
        "      tab[pos+y]=turn\n",
        "      y = y + 8\n",
        "\n",
        "  if(valSides[3]==1):\n",
        "    while tab[pos-x]!=turn:\n",
        "      tab[pos-x]=turn\n",
        "      x = x + 1\n",
        "  \n",
        "  return tab\n",
        "## Muda as peças da linha em questão\n",
        "\n",
        "##========================================================##\n",
        "\n",
        "turn = 1\n",
        "tab = (0, 0, 0, 0, 0, 0, 0, 0,\n",
        "       0, 0, 0, 0, 0, 0, 0, 0,\n",
        "       0, 0, 0, 0, 0, 0, 0, 0,\n",
        "       0, 0, 0, 1, -1, 0, 0, 0,\n",
        "       0, 0, 0, -1, 1, 0, 0, 0,\n",
        "       0, 0, 0, 0, 0, 0, 0, 0,\n",
        "       0, 0, 0, 0, 0, 0, 0, 0,\n",
        "       0, 0, 0, 0, 0, 0, 0, 0,)\n",
        "\n",
        "desenhaTab(tab)\n",
        "print()\n",
        "while not checkEndGame(tab):\n",
        "  if((not get_valid_moves(turn, tab)) and (not get_valid_moves(turn, tab))):\n",
        "    break\n",
        "  if(get_valid_moves(turn, tab)):\n",
        "    tab = game (turn, tab)\n",
        "    print()\n",
        "    turn = -turn\n",
        "  if(not get_valid_moves(turn, tab)):\n",
        "    turn = -turn\n",
        "\n",
        "if(winner(tab)<0):\n",
        "  print(\"Machine wins\")\n",
        "if(winner(tab)>0):\n",
        "  print(\"Player wins\")\n",
        "if(winner(tab)==0):\n",
        "  print(\"Stalemate\")\n",
        "\n"
      ],
      "execution_count": null,
      "outputs": [
        {
          "output_type": "display_data",
          "data": {
            "image/png": "[encoded data removed]",
            "text/plain": [
              "<PIL.Image.Image image mode=RGB size=400x400 at 0x7F29DFBDDFD0>"
            ]
          },
          "metadata": {
            "tags": []
          }
        },
        {
          "output_type": "stream",
          "text": [
            "\n",
            "[20, 29, 34, 43]\n",
            "34\n",
            "Vez do jogador  1\n",
            "Jogada na posição 34\n"
          ],
          "name": "stdout"
        },
        {
          "output_type": "display_data",
          "data": {
            "image/png": "[encoded data removed]",
            "text/plain": [
              "<PIL.Image.Image image mode=RGB size=400x400 at 0x7F29DF852DD8>"
            ]
          },
          "metadata": {
            "tags": []
          }
        },
        {
          "output_type": "stream",
          "text": [
            "\n",
            "Vez do jogador  -1\n",
            "Jogada na posição 26\n"
          ],
          "name": "stdout"
        },
        {
          "output_type": "display_data",
          "data": {
            "image/png": "[encoded data removed]",
            "text/plain": [
              "<PIL.Image.Image image mode=RGB size=400x400 at 0x7F29DF852F98>"
            ]
          },
          "metadata": {
            "tags": []
          }
        },
        {
          "output_type": "stream",
          "text": [
            "\n",
            "[18, 19, 20]\n"
          ],
          "name": "stdout"
        }
      ]
    }
  ]
}